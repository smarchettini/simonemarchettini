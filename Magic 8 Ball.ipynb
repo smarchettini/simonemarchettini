{
 "cells": [
  {
   "cell_type": "markdown",
   "id": "9774ee03-c109-4f8a-85ce-795e026093b7",
   "metadata": {},
   "source": [
    "# Magic 8 Ball\n",
    "Benvenuto nel gioco Magic 8 Ball!\n",
    "\n",
    "### Istruzioni\n",
    "Fai clic sul pulsante \"Esegui\" per iniziare a giocare con la Magic 8 Ball.\n",
    "Rispondi a una domanda quando richiesto.\n",
    "\n",
    "<div style=\"display:none;\">\n",
    "    Codice invisibile: \n",
    "    <pre>\n",
    "    import random\n",
    "    import time\n",
    "\n",
    "    # Lista di risposte della Magic 8 Ball\n",
    "    risposte = [\n",
    "        \"Sì, sicuramente. 🚀\",\n",
    "        \"Non so, chiedi di nuovo. 🤔\",\n",
    "        \"Sembra improbabile. ❌\",\n",
    "        \"Sì. 🎉\",\n",
    "        \"Non contare su di esso. 😬\",\n",
    "        \"È certo. 🌟\",\n",
    "        \"Le prospettive non sono buone. 😕\",\n",
    "        \"Sì, in effetti. 💯\",\n",
    "        \"Non è il momento giusto. ⏳\",\n",
    "        \"Certo, perché no? 👍\"\n",
    "    ]\n",
    "\n",
    "    def magic_8_ball():\n",
    "        # Introduzione coinvolgente\n",
    "        print(\"✨ Benvenuto nella Magic 8 Ball! Poni la tua domanda e scopri cosa il destino ha in serbo per te! ✨\")\n",
    "        \n",
    "        # Chiedi all'utente di inserire una domanda\n",
    "        domanda = input(\"❓ Fai una domanda alla Magic 8 Ball: \")\n",
    "        \n",
    "        # Seleziona una risposta casuale\n",
    "        risposta = random.choice(risposte)\n",
    "        \n",
    "        # Stampa la risposta con suspense\n",
    "        print(\"\\n🎱 La Magic 8 Ball sta pensando \", end=\"\")\n",
    "        time.sleep(1.5)\n",
    "        for _ in range(3):\n",
    "            print(\".\", end=\"\")\n",
    "            time.sleep(1)  # Attesa per creare suspense\n",
    "        print(\"\\n🎉 La Magic 8 Ball dice: \", risposta)\n",
    "        print(\"🤔 Che sia la risposta che cercavi! ✨\")  # Messaggio finale\n",
    "\n",
    "    magic_8_ball()\n",
    "    </pre>\n",
    "</div>"
   ]
  },
  {
   "cell_type": "code",
   "execution_count": null,
   "id": "1e94538b-4a19-4f70-a807-0491797d19b4",
   "metadata": {},
   "outputs": [
    {
     "name": "stdout",
     "output_type": "stream",
     "text": [
      "✨ Benvenuto nella Magic 8 Ball! Poni la tua domanda e scopri cosa il destino ha in serbo per te! ✨\n"
     ]
    }
   ],
   "source": [
    "import random\n",
    "import time\n",
    "\n",
    "# Lista di risposte della Magic 8 Ball\n",
    "risposte = [\n",
    "    \"Sì, sicuramente. 🚀\",\n",
    "    \"Non so, chiedi di nuovo. 🤔\",\n",
    "    \"Sembra improbabile. ❌\",\n",
    "    \"Sì. 🎉\",\n",
    "    \"Non contare su di esso. 😬\",\n",
    "    \"È certo. 🌟\",\n",
    "    \"Le prospettive non sono buone. 😕\",\n",
    "    \"Sì, in effetti. 💯\",\n",
    "    \"Non è il momento giusto. ⏳\",\n",
    "    \"Certo, perché no? 👍\"\n",
    "]\n",
    "\n",
    "def magic_8_ball():\n",
    "    # Introduzione coinvolgente\n",
    "    print(\"✨ Benvenuto nella Magic 8 Ball! Poni la tua domanda e scopri cosa il destino ha in serbo per te! ✨\")\n",
    "    \n",
    "    # Chiedi all'utente di inserire una domanda\n",
    "    domanda = input(\"❓ Fai una domanda alla Magic 8 Ball: \")\n",
    "    \n",
    "    # Seleziona una risposta casuale\n",
    "    risposta = random.choice(risposte)\n",
    "    \n",
    "    # Stampa la risposta con suspense\n",
    "    print(\"\\n🎱 La Magic 8 Ball sta pensando \", end=\"\")\n",
    "    time.sleep(1.5)\n",
    "    for _ in range(3):\n",
    "        print(\".\", end=\"\")\n",
    "        time.sleep(1)  # Attesa per creare suspense\n",
    "    print(\"\\n🎉 La Magic 8 Ball dice: \", risposta)\n",
    "    print(\"🤔 Che sia la risposta che cercavi! ✨\")  # Messaggio finale\n",
    "\n",
    "# Chiama la funzione\n",
    "magic_8_ball()\n"
   ]
  },
  {
   "cell_type": "code",
   "execution_count": null,
   "id": "4acadc52-9562-4dee-9080-477b2f22b75d",
   "metadata": {},
   "outputs": [],
   "source": []
  }
 ],
 "metadata": {
  "kernelspec": {
   "display_name": "anaconda-panel-2023.05-py310",
   "language": "python",
   "name": "conda-env-anaconda-panel-2023.05-py310-py"
  },
  "language_info": {
   "codemirror_mode": {
    "name": "ipython",
    "version": 3
   },
   "file_extension": ".py",
   "mimetype": "text/x-python",
   "name": "python",
   "nbconvert_exporter": "python",
   "pygments_lexer": "ipython3",
   "version": "3.11.5"
  }
 },
 "nbformat": 4,
 "nbformat_minor": 5
}
