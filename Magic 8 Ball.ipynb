{
 "cells": [
  {
   "cell_type": "code",
   "execution_count": 70,
   "id": "1dfb5b8e-5d10-43f2-bd76-cb02cab3db88",
   "metadata": {},
   "outputs": [
    {
     "name": "stdout",
     "output_type": "stream",
     "text": [
      "✨ Benvenuto nella Magic 8 Ball! Poni la tua domanda e scopri cosa il destino ha in serbo per te! ✨\n"
     ]
    },
    {
     "ename": "KeyboardInterrupt",
     "evalue": "Interrupted by user",
     "output_type": "error",
     "traceback": [
      "\u001b[0;31m---------------------------------------------------------------------------\u001b[0m",
      "\u001b[0;31mKeyboardInterrupt\u001b[0m                         Traceback (most recent call last)",
      "Cell \u001b[0;32mIn[70], line 38\u001b[0m\n\u001b[1;32m     35\u001b[0m     \u001b[38;5;28mprint\u001b[39m(\u001b[38;5;124m\"\u001b[39m\u001b[38;5;124m🤔 Che sia la risposta che cercavi! ✨\u001b[39m\u001b[38;5;124m\"\u001b[39m)  \u001b[38;5;66;03m# Messaggio corretto\u001b[39;00m\n\u001b[1;32m     37\u001b[0m \u001b[38;5;66;03m# Chiama la funzione\u001b[39;00m\n\u001b[0;32m---> 38\u001b[0m magic_8_ball()\n",
      "Cell \u001b[0;32mIn[70], line 23\u001b[0m, in \u001b[0;36mmagic_8_ball\u001b[0;34m()\u001b[0m\n\u001b[1;32m     20\u001b[0m \u001b[38;5;28mprint\u001b[39m(\u001b[38;5;124m\"\u001b[39m\u001b[38;5;124m✨ Benvenuto nella Magic 8 Ball! Poni la tua domanda e scopri cosa il destino ha in serbo per te! ✨\u001b[39m\u001b[38;5;124m\"\u001b[39m)\n\u001b[1;32m     22\u001b[0m \u001b[38;5;66;03m# Chiedi all'utente di inserire una domanda\u001b[39;00m\n\u001b[0;32m---> 23\u001b[0m domanda \u001b[38;5;241m=\u001b[39m \u001b[38;5;28minput\u001b[39m(\u001b[38;5;124m\"\u001b[39m\u001b[38;5;124m❓ Fai una domanda alla Magic 8 Ball: \u001b[39m\u001b[38;5;124m\"\u001b[39m)\n\u001b[1;32m     25\u001b[0m \u001b[38;5;66;03m# Seleziona una risposta casuale\u001b[39;00m\n\u001b[1;32m     26\u001b[0m risposta \u001b[38;5;241m=\u001b[39m random\u001b[38;5;241m.\u001b[39mchoice(risposte)\n",
      "File \u001b[0;32m/opt/conda/envs/anaconda-panel-2023.05-py310/lib/python3.11/site-packages/ipykernel/kernelbase.py:1202\u001b[0m, in \u001b[0;36mKernel.raw_input\u001b[0;34m(self, prompt)\u001b[0m\n\u001b[1;32m   1200\u001b[0m     msg \u001b[38;5;241m=\u001b[39m \u001b[38;5;124m\"\u001b[39m\u001b[38;5;124mraw_input was called, but this frontend does not support input requests.\u001b[39m\u001b[38;5;124m\"\u001b[39m\n\u001b[1;32m   1201\u001b[0m     \u001b[38;5;28;01mraise\u001b[39;00m StdinNotImplementedError(msg)\n\u001b[0;32m-> 1202\u001b[0m \u001b[38;5;28;01mreturn\u001b[39;00m \u001b[38;5;28mself\u001b[39m\u001b[38;5;241m.\u001b[39m_input_request(\n\u001b[1;32m   1203\u001b[0m     \u001b[38;5;28mstr\u001b[39m(prompt),\n\u001b[1;32m   1204\u001b[0m     \u001b[38;5;28mself\u001b[39m\u001b[38;5;241m.\u001b[39m_parent_ident[\u001b[38;5;124m\"\u001b[39m\u001b[38;5;124mshell\u001b[39m\u001b[38;5;124m\"\u001b[39m],\n\u001b[1;32m   1205\u001b[0m     \u001b[38;5;28mself\u001b[39m\u001b[38;5;241m.\u001b[39mget_parent(\u001b[38;5;124m\"\u001b[39m\u001b[38;5;124mshell\u001b[39m\u001b[38;5;124m\"\u001b[39m),\n\u001b[1;32m   1206\u001b[0m     password\u001b[38;5;241m=\u001b[39m\u001b[38;5;28;01mFalse\u001b[39;00m,\n\u001b[1;32m   1207\u001b[0m )\n",
      "File \u001b[0;32m/opt/conda/envs/anaconda-panel-2023.05-py310/lib/python3.11/site-packages/ipykernel/kernelbase.py:1245\u001b[0m, in \u001b[0;36mKernel._input_request\u001b[0;34m(self, prompt, ident, parent, password)\u001b[0m\n\u001b[1;32m   1242\u001b[0m \u001b[38;5;28;01mexcept\u001b[39;00m \u001b[38;5;167;01mKeyboardInterrupt\u001b[39;00m:\n\u001b[1;32m   1243\u001b[0m     \u001b[38;5;66;03m# re-raise KeyboardInterrupt, to truncate traceback\u001b[39;00m\n\u001b[1;32m   1244\u001b[0m     msg \u001b[38;5;241m=\u001b[39m \u001b[38;5;124m\"\u001b[39m\u001b[38;5;124mInterrupted by user\u001b[39m\u001b[38;5;124m\"\u001b[39m\n\u001b[0;32m-> 1245\u001b[0m     \u001b[38;5;28;01mraise\u001b[39;00m \u001b[38;5;167;01mKeyboardInterrupt\u001b[39;00m(msg) \u001b[38;5;28;01mfrom\u001b[39;00m \u001b[38;5;28;01mNone\u001b[39;00m\n\u001b[1;32m   1246\u001b[0m \u001b[38;5;28;01mexcept\u001b[39;00m \u001b[38;5;167;01mException\u001b[39;00m:\n\u001b[1;32m   1247\u001b[0m     \u001b[38;5;28mself\u001b[39m\u001b[38;5;241m.\u001b[39mlog\u001b[38;5;241m.\u001b[39mwarning(\u001b[38;5;124m\"\u001b[39m\u001b[38;5;124mInvalid Message:\u001b[39m\u001b[38;5;124m\"\u001b[39m, exc_info\u001b[38;5;241m=\u001b[39m\u001b[38;5;28;01mTrue\u001b[39;00m)\n",
      "\u001b[0;31mKeyboardInterrupt\u001b[0m: Interrupted by user"
     ]
    }
   ],
   "source": [
    "import random\n",
    "import time\n",
    "\n",
    "# Lista di risposte della Magic 8 Ball\n",
    "risposte = [\n",
    "    \"Sì, sicuramente. 🚀\",\n",
    "    \"Non so, chiedi di nuovo. 🤔\",\n",
    "    \"Sembra improbabile. ❌\",\n",
    "    \"Sì. 🎉\",\n",
    "    \"Non contare su di esso. 😬\",\n",
    "    \"È certo. 🌟\",\n",
    "    \"Le prospettive non sono buone. 😕\",\n",
    "    \"Sì, in effetti. 💯\",\n",
    "    \"Non è il momento giusto. ⏳\",\n",
    "    \"Certo, perché no? 👍\"\n",
    "]\n",
    "\n",
    "def magic_8_ball():\n",
    "    # Introduzione coinvolgente\n",
    "    print(\"✨ Benvenuto nella Magic 8 Ball! Poni la tua domanda e scopri cosa il destino ha in serbo per te! ✨\")\n",
    "    \n",
    "    # Chiedi all'utente di inserire una domanda\n",
    "    domanda = input(\"❓ Fai una domanda alla Magic 8 Ball: \")\n",
    "    \n",
    "    # Seleziona una risposta casuale\n",
    "    risposta = random.choice(risposte)\n",
    "    \n",
    "    # Stampa la risposta con suspense\n",
    "    print(\"\\n🎱 La Magic 8 Ball sta pensando \", end=\"\")\n",
    "    time.sleep(1.5)\n",
    "    for _ in range(3):\n",
    "        print(\".\", end=\"\")\n",
    "        time.sleep(1)  # Attesa per creare suspense\n",
    "    print(\"\\n🎉 La Magic 8 Ball dice: \", risposta)\n",
    "    print(\"🤔 Che sia la risposta che cercavi! ✨\")  # Messaggio corretto\n",
    "\n",
    "# Chiama la funzione\n",
    "magic_8_ball()\n"
   ]
  },
  {
   "cell_type": "code",
   "execution_count": null,
   "id": "66a24180-0139-4c6b-87be-af0665c4e303",
   "metadata": {},
   "outputs": [],
   "source": []
  }
 ],
 "metadata": {
  "kernelspec": {
   "display_name": "anaconda-panel-2023.05-py310",
   "language": "python",
   "name": "conda-env-anaconda-panel-2023.05-py310-py"
  },
  "language_info": {
   "codemirror_mode": {
    "name": "ipython",
    "version": 3
   },
   "file_extension": ".py",
   "mimetype": "text/x-python",
   "name": "python",
   "nbconvert_exporter": "python",
   "pygments_lexer": "ipython3",
   "version": "3.11.5"
  }
 },
 "nbformat": 4,
 "nbformat_minor": 5
}
